{
 "cells": [
  {
   "cell_type": "code",
   "execution_count": 1,
   "metadata": {
    "collapsed": true
   },
   "outputs": [],
   "source": [
    "import squeeze.tb_adaptor\n",
    "taobao_data_adaptor = squeeze.tb_adaptor.tb_data_adaptor"
   ]
  },
  {
   "cell_type": "code",
   "execution_count": 2,
   "metadata": {},
   "outputs": [],
   "source": [
    "simple_1={\n",
    "'sellerNick':'tomic旗舰店',\n",
    "'tradeCreateTime':'2018-08-28 23:55:07',\n",
    "'deliverAddress':'河南省 洛阳市 瀍河回族区 恒大绿洲西区62-1-3104',\n",
    "'tradeId':'176577605979860682',\n",
    "'tradeText':'交易成功',\n",
    "'sellerId':'836253112',\n",
    "'tradeStatus':'TRADE_FINISHED',\n",
    "'province':'河南',\n",
    "'createDate':'2019-01-05 14:33:43',\n",
    "'sellerShopName':'tomic旗舰店',\n",
    "'deliverPostCode':'471002',\n",
    "'subOrders':\n",
    "[\n",
    "{\n",
    "'itemName':'特美刻创意玻璃杯男女士耐热防摔便携水杯子带盖随手杯定制泡茶杯',\n",
    "'tradeID':'176577605979860682',\n",
    "'realTotal':43.0,\n",
    "'categoryLevelName1':'餐饮具',\n",
    "'quantity':1,\n",
    "'itemPic':\"//img.\",\n",
    "'categoryLevelName2':'杯子/水杯/水壶',\n",
    "'categoryLevelId1':'122952001',\n",
    "'original':299.0,\n",
    "'itemUrl':'//item.taobao.com/item.h',\n",
    "'categoryLevelId2':'12996002',\n",
    "'createTime':'2019-01-05 14:33:42',\n",
    "'itemId':'569312916574',\n",
    "'mappingId':'7912727426664200440'},\n",
    "{\n",
    "'itemName':'保险服务',\n",
    "'tradeID':'176577605979860682',\n",
    "'realTotal':0.0,\n",
    "'categoryLevelName1':'保险',\n",
    "'quantity':None,\n",
    "'itemPic':None,\n",
    "'categoryLevelName2':None,\n",
    "'categoryLevelId1':'50024186',\n",
    "'original':0,\n",
    "'itemUrl':'//prod-baoxian',\n",
    "'categoryLevelId2': None,\n",
    "'createTime':'2019-01-05 14:33:43',\n",
    "'itemId':'0',\n",
    "'mappingId':'7912727426664200440'\n",
    "}],\n",
    "'actualFee':43,\n",
    "'invoiceName':None,\n",
    "'city':'洛阳',\n",
    "'mappingId':'7912727426664200440'\n",
    "}\n",
    "\n",
    "simple_2 = {\n",
    "'sellerNick':'采多宝',\n",
    "'tradeCreateTime':'2018-08-28 23:53:58',\n",
    "'deliverAddress':'河南省 洛阳市 瀍河回族区 恒大绿洲西区62-1-3104',\n",
    "'tradeId':'176693051241850682',\n",
    "'tradeText':'交易成功',\n",
    "'sellerId':'51821372',\n",
    "'tradeStatus':'TRADE_FINISHED',\n",
    "'province':'河南',\n",
    "'createDate':'2019-01-05 14:33:43',\n",
    "'sellerShopName':'采多宝大码女装胖MM清新甜美显瘦 定制大码',\n",
    "'deliverPostCode':'471002',\n",
    "'subOrders':\n",
    "[\n",
    "{\n",
    "'itemName':'采多宝大码女装2018胖MM秋装V领交叉系带长袖毛织上衣配裹胸T178',\n",
    "'tradeID':'176693051241850682',\n",
    "'realTotal':128.41,\n",
    "'categoryLevelName1':'女装/女士精品',\n",
    "'quantity':1,\n",
    "'itemPic':\"//img.\",\n",
    "'categoryLevelName2':'大码女装',\n",
    "'categoryLevelId1':'16',\n",
    "'original':232.0,\n",
    "'itemUrl':'//item.taobao.com/item.h',\n",
    "'categoryLevelId2':'1629',\n",
    "'createTime':'2019-01-05 14:33:43',\n",
    "'itemId':'575599494681',\n",
    "'mappingId':'7912727426664200440'},\n",
    "{\n",
    "'itemName':'采多宝大码女装2018胖妹妹秋冬装撞色喇叭袖V领毛衣上衣MY000101',\n",
    "'tradeID':'176693051241850682',\n",
    "'realTotal':137.64,\n",
    "'categoryLevelName1':'女装/女士精品',\n",
    "'quantity':1,\n",
    "'itemPic':'//img.',\n",
    "'categoryLevelName2':'大码女装',\n",
    "'categoryLevelId1':'16',\n",
    "'original':248.0,\n",
    "'itemUrl':'//item.taobao.com/item',\n",
    "'categoryLevelId2': '1629',\n",
    "'createTime':'2019-01-05 14:33:43',\n",
    "'itemId':'576292259154',\n",
    "'mappingId':'7912727426664200440'\n",
    "}],\n",
    "'actualFee':266.04,\n",
    "'invoiceName':None,\n",
    "'city':'洛阳',\n",
    "'mappingId':'7912727426664200440'\n",
    "}\n",
    "\n",
    "test_data = []\n",
    "test_data.append(simple_1)\n",
    "test_data.append(simple_2)"
   ]
  },
  {
   "cell_type": "code",
   "execution_count": 3,
   "metadata": {},
   "outputs": [
    {
     "data": {
      "text/plain": [
       "{'actualFee': {'name': 'actualFee', 'value': [43, 266]}}"
      ]
     },
     "execution_count": 3,
     "metadata": {},
     "output_type": "execute_result"
    }
   ],
   "source": [
    "test_data_squeenze = taobao_data_adaptor.convert2seqs(test_data)\n",
    "test_data_squeenze"
   ]
  },
  {
   "cell_type": "code",
   "execution_count": 4,
   "metadata": {},
   "outputs": [],
   "source": [
    "from squeeze import SequenceTransformer\n",
    "st = SequenceTransformer()"
   ]
  },
  {
   "cell_type": "code",
   "execution_count": 5,
   "metadata": {},
   "outputs": [
    {
     "data": {
      "text/plain": [
       "{'actualFee.fist_location_of_max': 1,\n 'actualFee.fist_location_of_min': 0,\n 'actualFee.freq_of_max': 1,\n 'actualFee.freq_of_min': 1,\n 'actualFee.kurtosis': None,\n 'actualFee.last_location_of_max': 1,\n 'actualFee.last_location_of_min': 2,\n 'actualFee.length': 2,\n 'actualFee.max': 266,\n 'actualFee.mean': 154.5,\n 'actualFee.median': 154.5,\n 'actualFee.median_mean_distance': 0.0,\n 'actualFee.min': 43,\n 'actualFee.duplicates_count': 0,\n 'actualFee._number_peaks': 0,\n 'actualFee.percentage_below_mean': 0.5,\n 'actualFee.percentage_of_most_reoccuring_value_to_all_values': 0.5,\n 'actualFee.percentage_of_most_reoocuring_value_to_all_datapoints': 0.5,\n 'actualFee.ratio_value_number_to_seq_length': 1.0,\n 'actualFee.skewness': None,\n 'actualFee.standard_deviation': 111.5,\n 'actualFee.uniqueCount': 2,\n 'actualFee.variance': 12432.25}"
      ]
     },
     "execution_count": 5,
     "metadata": {},
     "output_type": "execute_result"
    }
   ],
   "source": [
    "st.transform(test_data_squeenze['actualFee'])"
   ]
  },
  {
   "cell_type": "code",
   "execution_count": null,
   "metadata": {},
   "outputs": [],
   "source": []
  }
 ],
 "metadata": {
  "kernelspec": {
   "display_name": "Python 2",
   "language": "python",
   "name": "python2"
  },
  "language_info": {
   "codemirror_mode": {
    "name": "ipython",
    "version": 2
   },
   "file_extension": ".py",
   "mimetype": "text/x-python",
   "name": "python",
   "nbconvert_exporter": "python",
   "pygments_lexer": "ipython2",
   "version": "2.7.6"
  }
 },
 "nbformat": 4,
 "nbformat_minor": 0
}
