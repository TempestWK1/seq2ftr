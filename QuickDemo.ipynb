{
 "cells": [
  {
   "cell_type": "code",
   "execution_count": 1,
   "metadata": {},
   "outputs": [],
   "source": [
    "import ager.transformer \n",
    "from ager.transformer import SequenceTransformer"
   ]
  },
  {
   "cell_type": "markdown",
   "metadata": {},
   "source": [
    "### Direct API"
   ]
  },
  {
   "cell_type": "code",
   "execution_count": 2,
   "metadata": {},
   "outputs": [],
   "source": [
    "__testdata1__ = {\n",
    "    \"type\":1,  # 0 for boolean, 1 for numericla, 2 for categorical\n",
    "    \"value\":[1,2,3]\n",
    "}\n",
    "\n",
    "__testdata2__ = {\n",
    "    \"type\":2,  # 0 for boolean, 1 for numericla, 2 for categorical\n",
    "    \"value\":[\"1\",\"2\"]\n",
    "}"
   ]
  },
  {
   "cell_type": "code",
   "execution_count": 3,
   "metadata": {},
   "outputs": [],
   "source": [
    "st_num = SequenceTransformer()\n",
    "st_cat = SequenceTransformer()"
   ]
  },
  {
   "cell_type": "code",
   "execution_count": 4,
   "metadata": {},
   "outputs": [
    {
     "name": "stdout",
     "output_type": "stream",
     "text": [
      "{'freq_of_max': 1, 'freq_of_min': 1, 'length': 3, 'max': 3, 'mean': 2.0, 'median': 2, 'median_mean_distance': 0.0, 'min': 1, 'duplicates_count': 0, 'percentage_below_mean': 0.3333333333333333, 'percentage_of_most_reoccuring_value_to_all_values': 0.3333333333333333, 'percentage_of_most_reoocuring_value_to_all_datapoints': 0.3333333333333333, 'uniqueCount': 3, 'variance': 0.6666666666666666}\n"
     ]
    }
   ],
   "source": [
    "print(st_num.transform(__testdata1__))"
   ]
  },
  {
   "cell_type": "code",
   "execution_count": 5,
   "metadata": {},
   "outputs": [
    {
     "name": "stdout",
     "output_type": "stream",
     "text": [
      "{'flucturate_rate': 0.0, 'length': 2, 'duplicates_count': 0, 'percentage_of_most_reoccuring_value_to_all_values': 0.5, 'percentage_of_most_reoocuring_value_to_all_datapoints': 0.5, 'uniqueCount': 2}\n"
     ]
    }
   ],
   "source": [
    "print(st_cat.transform(__testdata2__))"
   ]
  },
  {
   "cell_type": "markdown",
   "metadata": {},
   "source": [
    "### Modeling API"
   ]
  },
  {
   "cell_type": "code",
   "execution_count": 6,
   "metadata": {},
   "outputs": [
    {
     "data": {
      "text/html": [
       "<div>\n",
       "<style scoped>\n",
       "    .dataframe tbody tr th:only-of-type {\n",
       "        vertical-align: middle;\n",
       "    }\n",
       "\n",
       "    .dataframe tbody tr th {\n",
       "        vertical-align: top;\n",
       "    }\n",
       "\n",
       "    .dataframe thead th {\n",
       "        text-align: right;\n",
       "    }\n",
       "</style>\n",
       "<table border=\"1\" class=\"dataframe\">\n",
       "  <thead>\n",
       "    <tr style=\"text-align: right;\">\n",
       "      <th></th>\n",
       "      <th>stock_price</th>\n",
       "      <th>type</th>\n",
       "    </tr>\n",
       "    <tr>\n",
       "      <th>id</th>\n",
       "      <th></th>\n",
       "      <th></th>\n",
       "    </tr>\n",
       "  </thead>\n",
       "  <tbody>\n",
       "    <tr>\n",
       "      <th>1</th>\n",
       "      <td>200</td>\n",
       "      <td>1</td>\n",
       "    </tr>\n",
       "    <tr>\n",
       "      <th>1</th>\n",
       "      <td>500</td>\n",
       "      <td>2</td>\n",
       "    </tr>\n",
       "    <tr>\n",
       "      <th>2</th>\n",
       "      <td>300</td>\n",
       "      <td>2</td>\n",
       "    </tr>\n",
       "    <tr>\n",
       "      <th>2</th>\n",
       "      <td>600</td>\n",
       "      <td>2</td>\n",
       "    </tr>\n",
       "  </tbody>\n",
       "</table>\n",
       "</div>"
      ],
      "text/plain": [
       "    stock_price type\n",
       "id                  \n",
       "1           200    1\n",
       "1           500    2\n",
       "2           300    2\n",
       "2           600    2"
      ]
     },
     "execution_count": 6,
     "metadata": {},
     "output_type": "execute_result"
    }
   ],
   "source": [
    "import pandas as pd\n",
    "from sklearn_pandas import DataFrameMapper\n",
    "df = pd.DataFrame([[1,200,\"1\"],[1,500,\"2\"],[2,300,\"2\"],[2,600,\"2\"]],columns=['id','stock_price',\"type\"])\n",
    "df = df.set_index(\"id\")\n",
    "df"
   ]
  },
  {
   "cell_type": "code",
   "execution_count": 11,
   "metadata": {},
   "outputs": [
    {
     "data": {
      "text/html": [
       "<div>\n",
       "<style scoped>\n",
       "    .dataframe tbody tr th:only-of-type {\n",
       "        vertical-align: middle;\n",
       "    }\n",
       "\n",
       "    .dataframe tbody tr th {\n",
       "        vertical-align: top;\n",
       "    }\n",
       "\n",
       "    .dataframe thead th {\n",
       "        text-align: right;\n",
       "    }\n",
       "</style>\n",
       "<table border=\"1\" class=\"dataframe\">\n",
       "  <thead>\n",
       "    <tr style=\"text-align: right;\">\n",
       "      <th></th>\n",
       "      <th>freq_of_max</th>\n",
       "      <th>freq_of_min</th>\n",
       "      <th>length</th>\n",
       "      <th>max</th>\n",
       "      <th>mean</th>\n",
       "      <th>median</th>\n",
       "      <th>median_mean_distance</th>\n",
       "      <th>min</th>\n",
       "      <th>duplicates_count</th>\n",
       "      <th>percentage_below_mean</th>\n",
       "      <th>percentage_of_most_reoccuring_value_to_all_values</th>\n",
       "      <th>percentage_of_most_reoocuring_value_to_all_datapoints</th>\n",
       "      <th>uniqueCount</th>\n",
       "      <th>variance</th>\n",
       "    </tr>\n",
       "    <tr>\n",
       "      <th>id</th>\n",
       "      <th></th>\n",
       "      <th></th>\n",
       "      <th></th>\n",
       "      <th></th>\n",
       "      <th></th>\n",
       "      <th></th>\n",
       "      <th></th>\n",
       "      <th></th>\n",
       "      <th></th>\n",
       "      <th></th>\n",
       "      <th></th>\n",
       "      <th></th>\n",
       "      <th></th>\n",
       "      <th></th>\n",
       "    </tr>\n",
       "  </thead>\n",
       "  <tbody>\n",
       "    <tr>\n",
       "      <th>1</th>\n",
       "      <td>1</td>\n",
       "      <td>1</td>\n",
       "      <td>2</td>\n",
       "      <td>500</td>\n",
       "      <td>350.0</td>\n",
       "      <td>350.0</td>\n",
       "      <td>0.0</td>\n",
       "      <td>200</td>\n",
       "      <td>0</td>\n",
       "      <td>0.5</td>\n",
       "      <td>0.5</td>\n",
       "      <td>0.5</td>\n",
       "      <td>2</td>\n",
       "      <td>22500.0</td>\n",
       "    </tr>\n",
       "    <tr>\n",
       "      <th>2</th>\n",
       "      <td>1</td>\n",
       "      <td>1</td>\n",
       "      <td>2</td>\n",
       "      <td>600</td>\n",
       "      <td>450.0</td>\n",
       "      <td>450.0</td>\n",
       "      <td>0.0</td>\n",
       "      <td>300</td>\n",
       "      <td>0</td>\n",
       "      <td>0.5</td>\n",
       "      <td>0.5</td>\n",
       "      <td>0.5</td>\n",
       "      <td>2</td>\n",
       "      <td>22500.0</td>\n",
       "    </tr>\n",
       "  </tbody>\n",
       "</table>\n",
       "</div>"
      ],
      "text/plain": [
       "    freq_of_max  freq_of_min  length  max   mean  median  \\\n",
       "id                                                         \n",
       "1             1            1       2  500  350.0   350.0   \n",
       "2             1            1       2  600  450.0   450.0   \n",
       "\n",
       "    median_mean_distance  min  duplicates_count  percentage_below_mean  \\\n",
       "id                                                                       \n",
       "1                    0.0  200                 0                    0.5   \n",
       "2                    0.0  300                 0                    0.5   \n",
       "\n",
       "    percentage_of_most_reoccuring_value_to_all_values  \\\n",
       "id                                                      \n",
       "1                                                 0.5   \n",
       "2                                                 0.5   \n",
       "\n",
       "    percentage_of_most_reoocuring_value_to_all_datapoints  uniqueCount  \\\n",
       "id                                                                       \n",
       "1                                                 0.5                2   \n",
       "2                                                 0.5                2   \n",
       "\n",
       "    variance  \n",
       "id            \n",
       "1    22500.0  \n",
       "2    22500.0  "
      ]
     },
     "execution_count": 11,
     "metadata": {},
     "output_type": "execute_result"
    }
   ],
   "source": [
    "st_num.transform(df['stock_price'])"
   ]
  },
  {
   "cell_type": "code",
   "execution_count": 12,
   "metadata": {},
   "outputs": [
    {
     "data": {
      "text/html": [
       "<div>\n",
       "<style scoped>\n",
       "    .dataframe tbody tr th:only-of-type {\n",
       "        vertical-align: middle;\n",
       "    }\n",
       "\n",
       "    .dataframe tbody tr th {\n",
       "        vertical-align: top;\n",
       "    }\n",
       "\n",
       "    .dataframe thead th {\n",
       "        text-align: right;\n",
       "    }\n",
       "</style>\n",
       "<table border=\"1\" class=\"dataframe\">\n",
       "  <thead>\n",
       "    <tr style=\"text-align: right;\">\n",
       "      <th></th>\n",
       "      <th>flucturate_rate</th>\n",
       "      <th>length</th>\n",
       "      <th>duplicates_count</th>\n",
       "      <th>percentage_of_most_reoccuring_value_to_all_values</th>\n",
       "      <th>percentage_of_most_reoocuring_value_to_all_datapoints</th>\n",
       "      <th>uniqueCount</th>\n",
       "    </tr>\n",
       "    <tr>\n",
       "      <th>id</th>\n",
       "      <th></th>\n",
       "      <th></th>\n",
       "      <th></th>\n",
       "      <th></th>\n",
       "      <th></th>\n",
       "      <th></th>\n",
       "    </tr>\n",
       "  </thead>\n",
       "  <tbody>\n",
       "    <tr>\n",
       "      <th>1</th>\n",
       "      <td>0.0</td>\n",
       "      <td>2</td>\n",
       "      <td>0</td>\n",
       "      <td>0.5</td>\n",
       "      <td>0.5</td>\n",
       "      <td>2</td>\n",
       "    </tr>\n",
       "    <tr>\n",
       "      <th>2</th>\n",
       "      <td>1.0</td>\n",
       "      <td>2</td>\n",
       "      <td>1</td>\n",
       "      <td>1.0</td>\n",
       "      <td>1.0</td>\n",
       "      <td>1</td>\n",
       "    </tr>\n",
       "  </tbody>\n",
       "</table>\n",
       "</div>"
      ],
      "text/plain": [
       "    flucturate_rate  length  duplicates_count  \\\n",
       "id                                              \n",
       "1               0.0       2                 0   \n",
       "2               1.0       2                 1   \n",
       "\n",
       "    percentage_of_most_reoccuring_value_to_all_values  \\\n",
       "id                                                      \n",
       "1                                                 0.5   \n",
       "2                                                 1.0   \n",
       "\n",
       "    percentage_of_most_reoocuring_value_to_all_datapoints  uniqueCount  \n",
       "id                                                                      \n",
       "1                                                 0.5                2  \n",
       "2                                                 1.0                1  "
      ]
     },
     "execution_count": 12,
     "metadata": {},
     "output_type": "execute_result"
    }
   ],
   "source": [
    "st_cat.transform(df['type'])"
   ]
  },
  {
   "cell_type": "code",
   "execution_count": null,
   "metadata": {},
   "outputs": [],
   "source": []
  }
 ],
 "metadata": {
  "kernelspec": {
   "display_name": "Python 3",
   "language": "python",
   "name": "python3"
  },
  "language_info": {
   "codemirror_mode": {
    "name": "ipython",
    "version": 3
   },
   "file_extension": ".py",
   "mimetype": "text/x-python",
   "name": "python",
   "nbconvert_exporter": "python",
   "pygments_lexer": "ipython3",
   "version": "3.6.6"
  }
 },
 "nbformat": 4,
 "nbformat_minor": 2
}
